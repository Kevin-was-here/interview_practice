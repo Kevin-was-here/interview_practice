{
 "cells": [
  {
   "cell_type": "markdown",
   "metadata": {},
   "source": [
    "# Practice for Data Scientist (Python)"
   ]
  },
  {
   "cell_type": "markdown",
   "metadata": {},
   "source": [
    "uestion 1: Iris Exploratory Analysis\n",
    "Context\n",
    "\n",
    "The Iris dataset is a well known, heavily studied dataset hosted for public use by the UCI Machine Learning Repository.\n",
    "\n",
    "The dataset includes three iris species with 50 samples each as well as some properties about each flower. One flower species is linearly separable from the other two, but the other two are not linearly separable from each other.\n",
    "\n",
    "The columns in this dataset are:\n",
    "\n",
    "-     id\n",
    "-     sepal_length_cm\n",
    "-     sepal_width_cm\n",
    "-     petal_length_cm\n",
    "-     petal_width_cm\n",
    "-     class this is the species of Iris\n",
    "\n",
    "The sample CSV data looks like this:\n",
    "\n",
    "```\n",
    "sepal_length_cm,sepal_width_cm,petal_length_cm,petal_width_cm,class\n",
    "5.1,3.5,1.4,0.2,Iris-setosa\n",
    "7.0,3.2,4.7,1.4,Iris-versicolor\n",
    "5.8,2.7,5.1,1.9,Iris-virginica\n",
    "```\n",
    "\n",
    "Directions\n",
    "\n",
    "Using any analysis method you choose, build either a classifier or produce a data visualization, that shows how the available data can be leveraged to predict the species of Iris."
   ]
  },
  {
   "cell_type": "code",
   "execution_count": 2,
   "metadata": {},
   "outputs": [
    {
     "name": "stdout",
     "output_type": "stream",
     "text": [
      "[{'class': 'Iris-setosa',\n",
      "  'petal_length_cm': 1.4,\n",
      "  'petal_width_cm': 0.2,\n",
      "  'sepal_length_cm': 5.1,\n",
      "  'sepal_width_cm': 3.5},\n",
      " {'class': 'Iris-versicolor',\n",
      "  'petal_length_cm': 4.7,\n",
      "  'petal_width_cm': 1.4,\n",
      "  'sepal_length_cm': 7.0,\n",
      "  'sepal_width_cm': 3.2},\n",
      " {'class': 'Iris-virginica',\n",
      "  'petal_length_cm': 5.1,\n",
      "  'petal_width_cm': 1.9,\n",
      "  'sepal_length_cm': 5.8,\n",
      "  'sepal_width_cm': 2.7}]\n"
     ]
    }
   ],
   "source": [
    "import pandas as pd\n",
    "import pprint\n",
    "\n",
    "# Result as pandas data frame\n",
    "\n",
    "result_df = pd.read_csv('iris.csv')\n",
    "\n",
    "# Preview results output as a data frame\n",
    "\n",
    "result_df.head()\n",
    "\n",
    "# Result as pythonic list of dictionaries\n",
    "\n",
    "result = result_df.where(pd.notnull(result_df), None).to_dict('records')\n",
    "\n",
    "# Preview results output as a native list of dictionaries\n",
    "\n",
    "pprint.pprint([record for record in result])"
   ]
  }
 ],
 "metadata": {
  "kernelspec": {
   "display_name": "Python 3",
   "language": "python",
   "name": "python3"
  },
  "language_info": {
   "codemirror_mode": {
    "name": "ipython",
    "version": 3
   },
   "file_extension": ".py",
   "mimetype": "text/x-python",
   "name": "python",
   "nbconvert_exporter": "python",
   "pygments_lexer": "ipython3",
   "version": "3.11.5"
  }
 },
 "nbformat": 4,
 "nbformat_minor": 2
}
